{
 "cells": [
  {
   "cell_type": "code",
   "execution_count": 199,
   "metadata": {},
   "outputs": [],
   "source": [
    "# Alan Alfredo Onofre Chavez\n",
    "# Viktor Konupcik\n",
    "\n",
    "# Importing libraries \n",
    "import numpy as np\n",
    "import pandas as pd\n",
    "import seaborn as sns\n",
    "import matplotlib.pyplot as plt\n",
    "from sklearn.preprocessing import LabelEncoder\n",
    "from sklearn.preprocessing import OneHotEncoder\n",
    "from sklearn.neighbors import KNeighborsClassifier\n",
    "from sklearn.preprocessing import StandardScaler\n",
    "from sklearn.model_selection import train_test_split\n",
    "from sklearn.metrics import accuracy_score"
   ]
  },
  {
   "cell_type": "markdown",
   "metadata": {},
   "source": [
    "### Reading the dataset\n",
    "\n",
    "We use pandas to read to csv files and print the first and last columns to watch the next features:\n",
    "\n",
    "1) The variables contain inside the dataset\n",
    "\n",
    "2) Have a general overview from the dataset"
   ]
  },
  {
   "cell_type": "code",
   "execution_count": 200,
   "metadata": {},
   "outputs": [
    {
     "data": {
      "text/html": [
       "<div>\n",
       "<style scoped>\n",
       "    .dataframe tbody tr th:only-of-type {\n",
       "        vertical-align: middle;\n",
       "    }\n",
       "\n",
       "    .dataframe tbody tr th {\n",
       "        vertical-align: top;\n",
       "    }\n",
       "\n",
       "    .dataframe thead th {\n",
       "        text-align: right;\n",
       "    }\n",
       "</style>\n",
       "<table border=\"1\" class=\"dataframe\">\n",
       "  <thead>\n",
       "    <tr style=\"text-align: right;\">\n",
       "      <th></th>\n",
       "      <th>Protocol</th>\n",
       "      <th>Info</th>\n",
       "      <th>Length</th>\n",
       "      <th>Delta</th>\n",
       "      <th>Type</th>\n",
       "    </tr>\n",
       "  </thead>\n",
       "  <tbody>\n",
       "    <tr>\n",
       "      <th>0</th>\n",
       "      <td>HCI_EVT</td>\n",
       "      <td>Rcvd Link Key Request</td>\n",
       "      <td>9</td>\n",
       "      <td>0.010473</td>\n",
       "      <td>au_rand_flooding</td>\n",
       "    </tr>\n",
       "    <tr>\n",
       "      <th>1</th>\n",
       "      <td>HCI_CMD</td>\n",
       "      <td>Sent Link Key Request Negative Reply</td>\n",
       "      <td>10</td>\n",
       "      <td>0.010473</td>\n",
       "      <td>au_rand_flooding</td>\n",
       "    </tr>\n",
       "    <tr>\n",
       "      <th>2</th>\n",
       "      <td>HCI_EVT</td>\n",
       "      <td>Rcvd Link Key Request</td>\n",
       "      <td>9</td>\n",
       "      <td>0.017913</td>\n",
       "      <td>au_rand_flooding</td>\n",
       "    </tr>\n",
       "    <tr>\n",
       "      <th>3</th>\n",
       "      <td>HCI_EVT</td>\n",
       "      <td>Rcvd Command Complete (Link Key Request Negati...</td>\n",
       "      <td>13</td>\n",
       "      <td>0.002642</td>\n",
       "      <td>au_rand_flooding</td>\n",
       "    </tr>\n",
       "    <tr>\n",
       "      <th>4</th>\n",
       "      <td>HCI_CMD</td>\n",
       "      <td>Sent Link Key Request Negative Reply</td>\n",
       "      <td>10</td>\n",
       "      <td>0.002882</td>\n",
       "      <td>au_rand_flooding</td>\n",
       "    </tr>\n",
       "  </tbody>\n",
       "</table>\n",
       "</div>"
      ],
      "text/plain": [
       "  Protocol                                               Info  Length  \\\n",
       "0  HCI_EVT                              Rcvd Link Key Request       9   \n",
       "1  HCI_CMD               Sent Link Key Request Negative Reply      10   \n",
       "2  HCI_EVT                              Rcvd Link Key Request       9   \n",
       "3  HCI_EVT  Rcvd Command Complete (Link Key Request Negati...      13   \n",
       "4  HCI_CMD               Sent Link Key Request Negative Reply      10   \n",
       "\n",
       "      Delta              Type  \n",
       "0  0.010473  au_rand_flooding  \n",
       "1  0.010473  au_rand_flooding  \n",
       "2  0.017913  au_rand_flooding  \n",
       "3  0.002642  au_rand_flooding  \n",
       "4  0.002882  au_rand_flooding  "
      ]
     },
     "execution_count": 200,
     "metadata": {},
     "output_type": "execute_result"
    }
   ],
   "source": [
    "# Reading the dataset\n",
    "data = pd.read_csv(r\"..\\Project\\X_train.csv\")\n",
    "\n",
    "# Printing the five columns of our dataset\n",
    "data.head(5)"
   ]
  },
  {
   "cell_type": "code",
   "execution_count": 201,
   "metadata": {},
   "outputs": [
    {
     "data": {
      "text/html": [
       "<div>\n",
       "<style scoped>\n",
       "    .dataframe tbody tr th:only-of-type {\n",
       "        vertical-align: middle;\n",
       "    }\n",
       "\n",
       "    .dataframe tbody tr th {\n",
       "        vertical-align: top;\n",
       "    }\n",
       "\n",
       "    .dataframe thead th {\n",
       "        text-align: right;\n",
       "    }\n",
       "</style>\n",
       "<table border=\"1\" class=\"dataframe\">\n",
       "  <thead>\n",
       "    <tr style=\"text-align: right;\">\n",
       "      <th></th>\n",
       "      <th>Protocol</th>\n",
       "      <th>Info</th>\n",
       "      <th>Length</th>\n",
       "      <th>Delta</th>\n",
       "      <th>Type</th>\n",
       "    </tr>\n",
       "  </thead>\n",
       "  <tbody>\n",
       "    <tr>\n",
       "      <th>6392</th>\n",
       "      <td>OBEX</td>\n",
       "      <td>Rcvd OBEX fragment</td>\n",
       "      <td>1004</td>\n",
       "      <td>0.009528</td>\n",
       "      <td>normal</td>\n",
       "    </tr>\n",
       "    <tr>\n",
       "      <th>6393</th>\n",
       "      <td>HCI_EVT</td>\n",
       "      <td>Rcvd Number of Completed Packets</td>\n",
       "      <td>8</td>\n",
       "      <td>0.011079</td>\n",
       "      <td>normal</td>\n",
       "    </tr>\n",
       "    <tr>\n",
       "      <th>6394</th>\n",
       "      <td>OBEX</td>\n",
       "      <td>Rcvd OBEX fragment</td>\n",
       "      <td>1004</td>\n",
       "      <td>0.002127</td>\n",
       "      <td>normal</td>\n",
       "    </tr>\n",
       "    <tr>\n",
       "      <th>6395</th>\n",
       "      <td>RFCOMM</td>\n",
       "      <td>Sent UIH Channel=12 UID</td>\n",
       "      <td>14</td>\n",
       "      <td>0.006693</td>\n",
       "      <td>normal</td>\n",
       "    </tr>\n",
       "    <tr>\n",
       "      <th>6396</th>\n",
       "      <td>OBEX</td>\n",
       "      <td>Rcvd Put continue</td>\n",
       "      <td>106</td>\n",
       "      <td>0.001196</td>\n",
       "      <td>normal</td>\n",
       "    </tr>\n",
       "    <tr>\n",
       "      <th>6397</th>\n",
       "      <td>RFCOMM</td>\n",
       "      <td>Sent UIH Channel=12 UID</td>\n",
       "      <td>14</td>\n",
       "      <td>0.006531</td>\n",
       "      <td>normal</td>\n",
       "    </tr>\n",
       "    <tr>\n",
       "      <th>6398</th>\n",
       "      <td>HCI_EVT</td>\n",
       "      <td>Rcvd Number of Completed Packets</td>\n",
       "      <td>8</td>\n",
       "      <td>0.004969</td>\n",
       "      <td>normal</td>\n",
       "    </tr>\n",
       "    <tr>\n",
       "      <th>6399</th>\n",
       "      <td>OBEX</td>\n",
       "      <td>Sent Continue</td>\n",
       "      <td>21</td>\n",
       "      <td>0.014489</td>\n",
       "      <td>normal</td>\n",
       "    </tr>\n",
       "    <tr>\n",
       "      <th>6400</th>\n",
       "      <td>LMP</td>\n",
       "      <td>LMP_power_control_req</td>\n",
       "      <td>64</td>\n",
       "      <td>0.003510</td>\n",
       "      <td>normal</td>\n",
       "    </tr>\n",
       "    <tr>\n",
       "      <th>6401</th>\n",
       "      <td>LMP</td>\n",
       "      <td>LMP_power_control_res</td>\n",
       "      <td>64</td>\n",
       "      <td>0.001288</td>\n",
       "      <td>normal</td>\n",
       "    </tr>\n",
       "  </tbody>\n",
       "</table>\n",
       "</div>"
      ],
      "text/plain": [
       "     Protocol                              Info  Length     Delta    Type\n",
       "6392     OBEX                Rcvd OBEX fragment    1004  0.009528  normal\n",
       "6393  HCI_EVT  Rcvd Number of Completed Packets       8  0.011079  normal\n",
       "6394     OBEX                Rcvd OBEX fragment    1004  0.002127  normal\n",
       "6395   RFCOMM          Sent UIH Channel=12 UID       14  0.006693  normal\n",
       "6396     OBEX                 Rcvd Put continue     106  0.001196  normal\n",
       "6397   RFCOMM          Sent UIH Channel=12 UID       14  0.006531  normal\n",
       "6398  HCI_EVT  Rcvd Number of Completed Packets       8  0.004969  normal\n",
       "6399     OBEX                     Sent Continue      21  0.014489  normal\n",
       "6400      LMP             LMP_power_control_req      64  0.003510  normal\n",
       "6401      LMP             LMP_power_control_res      64  0.001288  normal"
      ]
     },
     "execution_count": 201,
     "metadata": {},
     "output_type": "execute_result"
    }
   ],
   "source": [
    "# Printing the last five columns of our dataset\n",
    "data.tail(10)"
   ]
  },
  {
   "cell_type": "markdown",
   "metadata": {},
   "source": [
    "### Visualization of our dataset\n",
    "\n",
    "After loading the dataset, we view the next characteristics:\n",
    "\n",
    "- The length of the dataset\n",
    "\n",
    "- The variable name for the columns\n",
    "\n",
    "- The type of value in each column"
   ]
  },
  {
   "cell_type": "code",
   "execution_count": 202,
   "metadata": {},
   "outputs": [
    {
     "name": "stdout",
     "output_type": "stream",
     "text": [
      "Length of the dataset:  6402\n",
      "Columns:  Index(['Protocol', 'Info', 'Length', 'Delta', 'Type'], dtype='object')\n",
      "Protocol     object\n",
      "Info         object\n",
      "Length        int64\n",
      "Delta       float64\n",
      "Type         object\n",
      "dtype: object\n"
     ]
    }
   ],
   "source": [
    "# Size of the dataset\n",
    "print(\"Length of the dataset: \", len(data))\n",
    "\n",
    "# Use of columns to see the variables\n",
    "print(\"Columns: \", data.columns)\n",
    "\n",
    "# Check the type of data for each column\n",
    "print(data.dtypes)"
   ]
  },
  {
   "cell_type": "code",
   "execution_count": 203,
   "metadata": {},
   "outputs": [
    {
     "data": {
      "text/plain": [
       "normal                             4055\n",
       "au_rand_flooding                    526\n",
       "truncated_sco_link_request          304\n",
       "duplicated_iocap                    277\n",
       "invalid_feature_page_execution      239\n",
       "truncated_lmp_accepted              236\n",
       "invalid_timing_accuracy             188\n",
       "feature_response_flooding           161\n",
       "lmp_overflow_dm1                    142\n",
       "lmp_auto_rate_overflow              124\n",
       "duplicated_encapsulated_payload      94\n",
       "invalid_setup_complete               56\n",
       "Name: Type, dtype: int64"
      ]
     },
     "execution_count": 203,
     "metadata": {},
     "output_type": "execute_result"
    }
   ],
   "source": [
    "# Number of times that each distinct value of a variable occurs\n",
    "data['Type'].value_counts()"
   ]
  },
  {
   "cell_type": "code",
   "execution_count": 204,
   "metadata": {},
   "outputs": [
    {
     "data": {
      "text/plain": [
       "Protocol    6402\n",
       "Info        6402\n",
       "Length      6402\n",
       "Delta       6402\n",
       "Type        6402\n",
       "dtype: int64"
      ]
     },
     "execution_count": 204,
     "metadata": {},
     "output_type": "execute_result"
    }
   ],
   "source": [
    "# Seen if there is non-readable data\n",
    "data.notnull().sum()"
   ]
  },
  {
   "cell_type": "code",
   "execution_count": 225,
   "metadata": {},
   "outputs": [
    {
     "data": {
      "image/png": "[encoded data removed]",
      "text/plain": [
       "<Figure size 500x500 with 1 Axes>"
      ]
     },
     "metadata": {},
     "output_type": "display_data"
    }
   ],
   "source": [
    "# Filtering normal variable\n",
    "filtered_data = data[data['Type'] != 'normal']\n",
    "\n",
    "# Making a histogram for the variable type\n",
    "sns.displot(data=filtered_data['Type'], kde = True)\n",
    "plt.title(\"Quantative of specific attacks\")\n",
    "\n",
    "# Rotating the names of columns so they are readible\n",
    "plt.xticks(rotation=80, fontsize = 'small')\n",
    "plt.show()"
   ]
  },
  {
   "cell_type": "markdown",
   "metadata": {},
   "source": [
    "### Analyzing dataset of test file\n",
    "\n",
    "We do the same process explained previously in the test file and watch if there is some irregularities as null variables or repeated columns"
   ]
  },
  {
   "cell_type": "code",
   "execution_count": 206,
   "metadata": {},
   "outputs": [
    {
     "data": {
      "text/plain": [
       "(691, 4)"
      ]
     },
     "execution_count": 206,
     "metadata": {},
     "output_type": "execute_result"
    }
   ],
   "source": [
    "data_test = pd.read_csv(r'..\\Project\\X_test.csv')\n",
    "data_test.shape"
   ]
  },
  {
   "cell_type": "code",
   "execution_count": 207,
   "metadata": {},
   "outputs": [
    {
     "data": {
      "text/html": [
       "<div>\n",
       "<style scoped>\n",
       "    .dataframe tbody tr th:only-of-type {\n",
       "        vertical-align: middle;\n",
       "    }\n",
       "\n",
       "    .dataframe tbody tr th {\n",
       "        vertical-align: top;\n",
       "    }\n",
       "\n",
       "    .dataframe thead th {\n",
       "        text-align: right;\n",
       "    }\n",
       "</style>\n",
       "<table border=\"1\" class=\"dataframe\">\n",
       "  <thead>\n",
       "    <tr style=\"text-align: right;\">\n",
       "      <th></th>\n",
       "      <th>Protocol</th>\n",
       "      <th>Info</th>\n",
       "      <th>Length</th>\n",
       "      <th>Delta</th>\n",
       "    </tr>\n",
       "  </thead>\n",
       "  <tbody>\n",
       "    <tr>\n",
       "      <th>0</th>\n",
       "      <td>Baseband</td>\n",
       "      <td>FHS</td>\n",
       "      <td>28</td>\n",
       "      <td>1.246406</td>\n",
       "    </tr>\n",
       "    <tr>\n",
       "      <th>1</th>\n",
       "      <td>Baseband</td>\n",
       "      <td>FHS</td>\n",
       "      <td>28</td>\n",
       "      <td>1.256744</td>\n",
       "    </tr>\n",
       "    <tr>\n",
       "      <th>2</th>\n",
       "      <td>Baseband</td>\n",
       "      <td>FHS</td>\n",
       "      <td>28</td>\n",
       "      <td>0.073231</td>\n",
       "    </tr>\n",
       "    <tr>\n",
       "      <th>3</th>\n",
       "      <td>Baseband</td>\n",
       "      <td>FHS</td>\n",
       "      <td>28</td>\n",
       "      <td>0.076976</td>\n",
       "    </tr>\n",
       "    <tr>\n",
       "      <th>4</th>\n",
       "      <td>Baseband</td>\n",
       "      <td>FHS</td>\n",
       "      <td>28</td>\n",
       "      <td>1.210525</td>\n",
       "    </tr>\n",
       "    <tr>\n",
       "      <th>5</th>\n",
       "      <td>Baseband</td>\n",
       "      <td>FHS</td>\n",
       "      <td>28</td>\n",
       "      <td>0.079468</td>\n",
       "    </tr>\n",
       "    <tr>\n",
       "      <th>6</th>\n",
       "      <td>Baseband</td>\n",
       "      <td>FHS</td>\n",
       "      <td>28</td>\n",
       "      <td>1.211332</td>\n",
       "    </tr>\n",
       "    <tr>\n",
       "      <th>7</th>\n",
       "      <td>Baseband</td>\n",
       "      <td>FHS</td>\n",
       "      <td>28</td>\n",
       "      <td>0.077530</td>\n",
       "    </tr>\n",
       "  </tbody>\n",
       "</table>\n",
       "</div>"
      ],
      "text/plain": [
       "   Protocol Info  Length     Delta\n",
       "0  Baseband  FHS      28  1.246406\n",
       "1  Baseband  FHS      28  1.256744\n",
       "2  Baseband  FHS      28  0.073231\n",
       "3  Baseband  FHS      28  0.076976\n",
       "4  Baseband  FHS      28  1.210525\n",
       "5  Baseband  FHS      28  0.079468\n",
       "6  Baseband  FHS      28  1.211332\n",
       "7  Baseband  FHS      28  0.077530"
      ]
     },
     "execution_count": 207,
     "metadata": {},
     "output_type": "execute_result"
    }
   ],
   "source": [
    "# Printing the first 8 rows\n",
    "data_test.head(8)"
   ]
  },
  {
   "cell_type": "code",
   "execution_count": 208,
   "metadata": {},
   "outputs": [
    {
     "name": "stdout",
     "output_type": "stream",
     "text": [
      "Length of the dataset:  691\n",
      "Columns:  Index(['Protocol', 'Info', 'Length', 'Delta'], dtype='object')\n",
      "Protocol     object\n",
      "Info         object\n",
      "Length        int64\n",
      "Delta       float64\n",
      "dtype: object\n"
     ]
    }
   ],
   "source": [
    "# Visualizing our dataset\n",
    "# Size of the dataset\n",
    "print(\"Length of the dataset: \", len(data_test))\n",
    "\n",
    "# Use of columns to see the variables\n",
    "print(\"Columns: \", data_test.columns)\n",
    "\n",
    "# Check the type of data for each column\n",
    "print(data_test.dtypes)"
   ]
  },
  {
   "cell_type": "code",
   "execution_count": 209,
   "metadata": {},
   "outputs": [
    {
     "data": {
      "text/plain": [
       "Protocol    691\n",
       "Info        691\n",
       "Length      691\n",
       "Delta       691\n",
       "dtype: int64"
      ]
     },
     "execution_count": 209,
     "metadata": {},
     "output_type": "execute_result"
    }
   ],
   "source": [
    "# Check if there is non-readable data\n",
    "data_test.notnull().sum()"
   ]
  },
  {
   "cell_type": "markdown",
   "metadata": {},
   "source": [
    "### Perform one-hot encoding to transform strings to integers\n",
    "\n",
    "One-hot encoding is known as the representation of categorical variables as binary vectors. These categorical values are first mapped to integer values, so each one of it is represented as a binary vector that is all 0s.\n",
    "\n",
    "To sum up, we use this technique to transfom string values to integers"
   ]
  },
  {
   "cell_type": "code",
   "execution_count": 210,
   "metadata": {},
   "outputs": [
    {
     "name": "stdout",
     "output_type": "stream",
     "text": [
      "[0 0 0 ... 9 9 9]\n",
      "[[1. 0. 0. ... 0. 0. 0.]\n",
      " [1. 0. 0. ... 0. 0. 0.]\n",
      " [1. 0. 0. ... 0. 0. 0.]\n",
      " ...\n",
      " [0. 0. 0. ... 1. 0. 0.]\n",
      " [0. 0. 0. ... 1. 0. 0.]\n",
      " [0. 0. 0. ... 1. 0. 0.]]\n"
     ]
    },
    {
     "name": "stderr",
     "output_type": "stream",
     "text": [
      "D:\\Apps\\Anaconda\\Lib\\site-packages\\sklearn\\preprocessing\\_encoders.py:972: FutureWarning: `sparse` was renamed to `sparse_output` in version 1.2 and will be removed in 1.4. `sparse_output` is ignored unless you leave `sparse` to its default value.\n",
      "  warnings.warn(\n"
     ]
    }
   ],
   "source": [
    "# Implementing one-hot encoding for Type\n",
    "label_encoder = LabelEncoder()\n",
    "type_encoded = label_encoder.fit_transform(data['Type'])\n",
    "print(type_encoded)\n",
    "type_encoded = type_encoded.reshape(len(type_encoded), 1)\n",
    "\n",
    "onehot_encoder = OneHotEncoder(sparse=False)\n",
    "onehot_type = onehot_encoder.fit_transform(type_encoded)\n",
    "print(onehot_type)"
   ]
  },
  {
   "cell_type": "code",
   "execution_count": 211,
   "metadata": {},
   "outputs": [
    {
     "name": "stdout",
     "output_type": "stream",
     "text": [
      "[[4]\n",
      " [3]\n",
      " [4]\n",
      " ...\n",
      " [7]\n",
      " [6]\n",
      " [6]]\n"
     ]
    },
    {
     "name": "stderr",
     "output_type": "stream",
     "text": [
      "D:\\Apps\\Anaconda\\Lib\\site-packages\\sklearn\\preprocessing\\_encoders.py:972: FutureWarning: `sparse` was renamed to `sparse_output` in version 1.2 and will be removed in 1.4. `sparse_output` is ignored unless you leave `sparse` to its default value.\n",
      "  warnings.warn(\n"
     ]
    }
   ],
   "source": [
    "# Implementing one-hot encoding for protocol\n",
    "protocol_encoded = label_encoder.fit_transform(data['Protocol'])\n",
    "protocol_encoded = protocol_encoded.reshape(len(protocol_encoded), 1)\n",
    "\n",
    "onehot_protocol = onehot_encoder.fit_transform(protocol_encoded)\n",
    "print(protocol_encoded)"
   ]
  },
  {
   "cell_type": "markdown",
   "metadata": {},
   "source": [
    "### Implementing KNN for classification\n",
    "\n",
    "As the main goal is to known which kind of attack is, we are facing a classification problem. So we decided to implement the K-Nearest-Neighbors which is good for this type of problem \n",
    "\n",
    "The KNN, better known as K-Neighbors, gives a new point $x_0$, KNN:\n",
    "\n",
    "1) Identifies the $K$ observations that are closest to $x_0$, denoted by $\\mathcal{N}_0$\n",
    "\n",
    "2) Estimates the class $k$ of $x_0$ using a majority vote: The prediction is the most commonly occurring class among the classes in $\\mathcal{N}_0$\n",
    "\n",
    "To sum up, the conditional probability for class $k$ as the fraction of points in $\\mathcal{N}_0$ whose response values equals to $k$:\n",
    "$$\\mathbb{P}(y_0=k|X=x_0)=\\frac{1}{K} = \\frac{1}{K}\\sum_{x_i\\in \\mathcal{N}_0}I(y_i=k)$$"
   ]
  },
  {
   "cell_type": "code",
   "execution_count": null,
   "metadata": {},
   "outputs": [
    {
     "name": "stdout",
     "output_type": "stream",
     "text": [
      "K= 1 Seed= 1 accuracy_train=61.5% accuracy_test=62.1%\n",
      "K= 1 Seed= 2 accuracy_train=65.1% accuracy_test=63.8%\n",
      "K= 1 Seed= 3 accuracy_train=61.9% accuracy_test=61.8%\n",
      "K= 1 Seed= 4 accuracy_train=56.6% accuracy_test=57.0%\n",
      "K= 1 Seed= 5 accuracy_train=56.6% accuracy_test=56.6%\n"
     ]
    }
   ],
   "source": [
    "# Prepare dataset\n",
    "x = onehot_protocol\n",
    "y = onehot_type\n",
    "\n",
    "# Declare train\n",
    "best_accuracy_train = 0\n",
    "best_seed_train = 0\n",
    "best_k_train = 0\n",
    "\n",
    "# Declare test\n",
    "best_accuracy_test = 0\n",
    "best_seed_test = 0\n",
    "best_k_test = 0\n",
    "\n",
    "# Fisrt cycle to determine best K.\n",
    "# It goes from 1 to 3 because K higher than 3 did not bring great results (data for that in test data folder)\n",
    "for k in range (1,3):\n",
    "    \n",
    "    #Second cycle is for seed where the values varies more\n",
    "    for seed in range(1, 22):\n",
    "        \n",
    "        # assigning to vars\n",
    "        x_train, x_test, y_train, y_test = train_test_split(x, y, test_size = 0.3, random_state = seed)\n",
    "\n",
    "        # Chosing KNeighborsClassifier according to k from fist cycle\n",
    "        clf = KNeighborsClassifier(n_neighbors=k)\n",
    "        \n",
    "        # Fitting data to clf\n",
    "        clf.fit(x_train, y_train)\n",
    "        \n",
    "        # Predicting\n",
    "        y_pred_train = clf.predict(x_train)\n",
    "        y_pred_test = clf.predict(x_test)\n",
    "    \n",
    "        # Accuracy calculation\n",
    "        accuracy_train = accuracy_score(y_train, y_pred_train)\n",
    "        accuracy_test = accuracy_score(y_test, y_pred_test)\n",
    "        \n",
    "        # Print for us to know how the code goes and that we have more data to work with\n",
    "        text = 'K={:>2} Seed={:>2} accuracy_train={:3.1f}% accuracy_test={:3.1f}%'.format(k,seed,100*accuracy_train,100*accuracy_test)\n",
    "        print(text)\n",
    "        \n",
    "        # Both if decide if the accuracy score is better than the best so far. First is for train and second for test\n",
    "        if accuracy_train > best_accuracy_train:\n",
    "            best_accuracy_train = accuracy_train\n",
    "            best_seed_train = seed            \n",
    "            best_k_train = k\n",
    "            DF = pd.DataFrame(y_pred_train)\n",
    "            DF.to_csv('../Test_examples/data_test.csv')\n",
    "\n",
    "        if accuracy_test > best_accuracy_test:\n",
    "            best_accuracy_test = accuracy_test\n",
    "            best_seed_test = seed\n",
    "            best_k_test = k\n",
    "            DF = pd.DataFrame(y_pred_test)\n",
    "            DF.to_csv('../Test_examples/data_train.csv')\n",
    "        \n",
    "# Printing the overall results\n",
    "print(f\"Best k train: {best_k_train}\")\n",
    "print(f\"Best seed train: {best_seed_train}\")\n",
    "print('Best prediction are {:3.1f}% accurate on the training set. '.format(100*best_accuracy_train))\n",
    "\n",
    "print(f\"Best k test: {best_k_test}\")\n",
    "print(f\"Best seed test: {best_seed_test}\")\n",
    "print('Best prediction are {:3.1f}% accurate on the test set. '.format(100*best_accuracy_test))"
   ]
  },
  {
   "cell_type": "markdown",
   "metadata": {},
   "source": [
    "### Measure accuracy on KNN classifier with standarized data\n",
    "\n",
    "For better results, normalizing data on the same scale is highly recommended because depending on the scale, the nearest neighbours of a point can change\n",
    "\n",
    "The standarization allows to obtain a variable of mean $0$ and standard deviation $1$, by the transformation: \n",
    "\n",
    "$$x'_i=\\frac{x_i - \\bar{x}}{\\sigma}$$\n",
    "Where:\n",
    "\n",
    "1) $\\bar{x}$ is the mean of $(x_1,\\dots,x_N)$ : $\\bar{x}=\\frac{1}{N}\\sum_{i=1}^{N}$\n",
    "\n",
    "2) $\\sigma$ is the standard deviation of $(x_1,\\dots,x_N)$ : $\\sigma=\\sqrt{\\frac{1}{N}\\sum_{i=1}^{N} (x_i - \\bar{x})^2}$"
   ]
  },
  {
   "cell_type": "code",
   "execution_count": 229,
   "metadata": {},
   "outputs": [
    {
     "name": "stdout",
     "output_type": "stream",
     "text": [
      "K= 1 accuracy=58.5%\n",
      "K= 2 accuracy=56.2%\n",
      "K= 3 accuracy=56.7%\n",
      "K= 4 accuracy=52.6%\n",
      "K= 5 accuracy=60.0%\n",
      "K= 6 accuracy=60.0%\n",
      "K= 7 accuracy=60.0%\n",
      "K= 8 accuracy=60.0%\n",
      "K= 9 accuracy=60.0%\n",
      "Best k: 0\n",
      "Best prediction are 60.0% accurate. \n"
     ]
    }
   ],
   "source": [
    "# KNN clasifier with standarized data\n",
    "scaler = StandardScaler()\n",
    "\n",
    "# Standarize dataset\n",
    "scaler.fit(x)\n",
    "x_train_std = scaler.transform(x_train)\n",
    "\n",
    "# Declare k\n",
    "best_accuracy = 0\n",
    "best_k = 1\n",
    "\n",
    "# Fisrt cycle to determine best K.\n",
    "# More than 10 is not needed as the result is 49.9% after k>5\n",
    "for k in range (1,10):\n",
    "    \n",
    "    # Evaluate and declare the model\n",
    "    clf_std = KNeighborsClassifier(n_neighbors=k)    \n",
    "    clf_std.fit(x_train_std, y_train)\n",
    "    x_test_std = scaler.transform(x_test)\n",
    "    y_pred_std = clf_std.predict(x_test_std)\n",
    "    accuracy = accuracy_score(y_test, y_pred_std)\n",
    "    \n",
    "    # Print for us to know how the code goes and that we have more data to work with\n",
    "    text = 'K={:>2} accuracy={:3.1f}%'.format(k,100*accuracy)\n",
    "    print(text)\n",
    "    \n",
    "    # Decide if the accuracy score is better than the best so far. First is for train and second for test\n",
    "    if accuracy > best_accuracy:\n",
    "        best_accuracy = accuracy\n",
    "        best_k = k\n",
    "        DF = pd.DataFrame(y_pred_std)\n",
    "        DF.to_csv('../Test_examples/data_stan.csv')\n",
    "        \n",
    "\n",
    "# Printing the overall results        \n",
    "print(f\"Best k: {best_k_test}\")\n",
    "print('Best prediction are {:3.1f}% accurate. '.format(100*best_accuracy))"
   ]
  },
  {
   "cell_type": "markdown",
   "metadata": {},
   "source": [
    "### Predictions and results\n",
    "\n",
    "After implementing our KNN model we obtain results between 55.5% and 65.9% of accuracy for the next reason:\n",
    "\n",
    "- In the dataset there are some variables that are mixed, for example some protocol repeat itself in different cyber-attacks or have the same information\n",
    "\n",
    "So, in order to have a better accuracy we could clean the dataset by removing some columns or rows that repeat each other or try other variables to watch how they perform in the model"
   ]
  },
  {
   "cell_type": "markdown",
   "metadata": {},
   "source": [
    "### Bibliographic References\n",
    "\n",
    "- Nandikotkur, Achyuth; Traore, Issa; Mamun, Mohammad. Detecting BrakTooth Attacks. In: Secrypt 2023, 20th International Conference on Security and Cryptography, 10-12 July 2023, Rome, Italy.\n",
    "\n",
    "- https://www.educative.io/answers/one-hot-encoding-in-python"
   ]
  }
 ],
 "metadata": {
  "kernelspec": {
   "display_name": "Python 3 (ipykernel)",
   "language": "python",
   "name": "python3"
  },
  "language_info": {
   "codemirror_mode": {
    "name": "ipython",
    "version": 3
   },
   "file_extension": ".py",
   "mimetype": "text/x-python",
   "name": "python",
   "nbconvert_exporter": "python",
   "pygments_lexer": "ipython3",
   "version": "3.11.4"
  }
 },
 "nbformat": 4,
 "nbformat_minor": 2
}
