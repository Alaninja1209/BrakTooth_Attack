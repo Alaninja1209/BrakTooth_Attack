{
 "cells": [
  {
   "cell_type": "code",
   "execution_count": 79,
   "metadata": {},
   "outputs": [],
   "source": [
    "# Importing libraries \n",
    "import numpy as np\n",
    "import matplotlib.pyplot as plt\n",
    "import pandas as pd\n",
    "import seaborn as sns"
   ]
  },
  {
   "cell_type": "code",
   "execution_count": 80,
   "metadata": {},
   "outputs": [
    {
     "data": {
      "text/html": [
       "<div>\n",
       "<style scoped>\n",
       "    .dataframe tbody tr th:only-of-type {\n",
       "        vertical-align: middle;\n",
       "    }\n",
       "\n",
       "    .dataframe tbody tr th {\n",
       "        vertical-align: top;\n",
       "    }\n",
       "\n",
       "    .dataframe thead th {\n",
       "        text-align: right;\n",
       "    }\n",
       "</style>\n",
       "<table border=\"1\" class=\"dataframe\">\n",
       "  <thead>\n",
       "    <tr style=\"text-align: right;\">\n",
       "      <th></th>\n",
       "      <th>Protocol</th>\n",
       "      <th>Info</th>\n",
       "      <th>Length</th>\n",
       "      <th>Delta</th>\n",
       "      <th>Type</th>\n",
       "    </tr>\n",
       "  </thead>\n",
       "  <tbody>\n",
       "    <tr>\n",
       "      <th>0</th>\n",
       "      <td>HCI_EVT</td>\n",
       "      <td>Rcvd Link Key Request</td>\n",
       "      <td>9</td>\n",
       "      <td>0.010473</td>\n",
       "      <td>au_rand_flooding</td>\n",
       "    </tr>\n",
       "    <tr>\n",
       "      <th>1</th>\n",
       "      <td>HCI_CMD</td>\n",
       "      <td>Sent Link Key Request Negative Reply</td>\n",
       "      <td>10</td>\n",
       "      <td>0.010473</td>\n",
       "      <td>au_rand_flooding</td>\n",
       "    </tr>\n",
       "    <tr>\n",
       "      <th>2</th>\n",
       "      <td>HCI_EVT</td>\n",
       "      <td>Rcvd Link Key Request</td>\n",
       "      <td>9</td>\n",
       "      <td>0.017913</td>\n",
       "      <td>au_rand_flooding</td>\n",
       "    </tr>\n",
       "    <tr>\n",
       "      <th>3</th>\n",
       "      <td>HCI_EVT</td>\n",
       "      <td>Rcvd Command Complete (Link Key Request Negati...</td>\n",
       "      <td>13</td>\n",
       "      <td>0.002642</td>\n",
       "      <td>au_rand_flooding</td>\n",
       "    </tr>\n",
       "    <tr>\n",
       "      <th>4</th>\n",
       "      <td>HCI_CMD</td>\n",
       "      <td>Sent Link Key Request Negative Reply</td>\n",
       "      <td>10</td>\n",
       "      <td>0.002882</td>\n",
       "      <td>au_rand_flooding</td>\n",
       "    </tr>\n",
       "  </tbody>\n",
       "</table>\n",
       "</div>"
      ],
      "text/plain": [
       "  Protocol                                               Info  Length  \\\n",
       "0  HCI_EVT                              Rcvd Link Key Request       9   \n",
       "1  HCI_CMD               Sent Link Key Request Negative Reply      10   \n",
       "2  HCI_EVT                              Rcvd Link Key Request       9   \n",
       "3  HCI_EVT  Rcvd Command Complete (Link Key Request Negati...      13   \n",
       "4  HCI_CMD               Sent Link Key Request Negative Reply      10   \n",
       "\n",
       "      Delta              Type  \n",
       "0  0.010473  au_rand_flooding  \n",
       "1  0.010473  au_rand_flooding  \n",
       "2  0.017913  au_rand_flooding  \n",
       "3  0.002642  au_rand_flooding  \n",
       "4  0.002882  au_rand_flooding  "
      ]
     },
     "execution_count": 80,
     "metadata": {},
     "output_type": "execute_result"
    }
   ],
   "source": [
    "# Reading the dataset\n",
    "data = pd.read_csv(r\"C:\\Users\\alana\\Documents\\TecMTY\\Esiee\\Machine_Learning\\Project\\X_train.csv\")\n",
    "\n",
    "# Printing the five columns of our dataset\n",
    "data.head(5)"
   ]
  },
  {
   "cell_type": "markdown",
   "metadata": {},
   "source": [
    "Visualization of our dataset"
   ]
  },
  {
   "cell_type": "code",
   "execution_count": 81,
   "metadata": {},
   "outputs": [
    {
     "name": "stdout",
     "output_type": "stream",
     "text": [
      "Length of the dataset:  6402\n",
      "Columns:  Index(['Protocol', 'Info', 'Length', 'Delta', 'Type'], dtype='object')\n",
      "Protocol     object\n",
      "Info         object\n",
      "Length        int64\n",
      "Delta       float64\n",
      "Type         object\n",
      "dtype: object\n"
     ]
    }
   ],
   "source": [
    "# Size of the dataset\n",
    "print(\"Length of the dataset: \", len(data))\n",
    "\n",
    "# Use of columns to see the variables\n",
    "print(\"Columns: \", data.columns)\n",
    "\n",
    "# Check the type of data for each column\n",
    "print(data.dtypes)"
   ]
  },
  {
   "cell_type": "code",
   "execution_count": 82,
   "metadata": {},
   "outputs": [
    {
     "data": {
      "text/plain": [
       "normal                             4055\n",
       "au_rand_flooding                    526\n",
       "truncated_sco_link_request          304\n",
       "duplicated_iocap                    277\n",
       "invalid_feature_page_execution      239\n",
       "truncated_lmp_accepted              236\n",
       "invalid_timing_accuracy             188\n",
       "feature_response_flooding           161\n",
       "lmp_overflow_dm1                    142\n",
       "lmp_auto_rate_overflow              124\n",
       "duplicated_encapsulated_payload      94\n",
       "invalid_setup_complete               56\n",
       "Name: Type, dtype: int64"
      ]
     },
     "execution_count": 82,
     "metadata": {},
     "output_type": "execute_result"
    }
   ],
   "source": [
    "# Number of times that each distinct value of a variable occurs\n",
    "data['Type'].value_counts()"
   ]
  },
  {
   "cell_type": "code",
   "execution_count": 83,
   "metadata": {},
   "outputs": [
    {
     "data": {
      "text/plain": [
       "Protocol    6402\n",
       "Info        6402\n",
       "Length      6402\n",
       "Delta       6402\n",
       "Type        6402\n",
       "dtype: int64"
      ]
     },
     "execution_count": 83,
     "metadata": {},
     "output_type": "execute_result"
    }
   ],
   "source": [
    "# Seen if there is non-readable data\n",
    "data.notnull().sum()"
   ]
  },
  {
   "cell_type": "code",
   "execution_count": 84,
   "metadata": {},
   "outputs": [
    {
     "data": {
      "image/png": "[encoded data removed]",
      "text/plain": [
       "<Figure size 500x500 with 1 Axes>"
      ]
     },
     "metadata": {},
     "output_type": "display_data"
    }
   ],
   "source": [
    "# Filtering normal variable\n",
    "filtered_data = data[data['Type'] != 'normal']\n",
    "\n",
    "# Making a histogram for the variable type\n",
    "sns.displot(data=filtered_data['Type'], kde = True)\n",
    "plt.title(\"Quantative of specific attacks\")\n",
    "plt.show()"
   ]
  }
 ],
 "metadata": {
  "kernelspec": {
   "display_name": "Python 3",
   "language": "python",
   "name": "python3"
  },
  "language_info": {
   "codemirror_mode": {
    "name": "ipython",
    "version": 3
   },
   "file_extension": ".py",
   "mimetype": "text/x-python",
   "name": "python",
   "nbconvert_exporter": "python",
   "pygments_lexer": "ipython3",
   "version": "3.10.11"
  }
 },
 "nbformat": 4,
 "nbformat_minor": 2
}
